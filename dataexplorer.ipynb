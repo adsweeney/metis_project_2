{
 "metadata": {
  "language_info": {
   "codemirror_mode": {
    "name": "ipython",
    "version": 3
   },
   "file_extension": ".py",
   "mimetype": "text/x-python",
   "name": "python",
   "nbconvert_exporter": "python",
   "pygments_lexer": "ipython3",
   "version": "3.8.3-final"
  },
  "orig_nbformat": 2,
  "kernelspec": {
   "name": "Python 3.8.3 64-bit ('untitled': conda)",
   "display_name": "Python 3.8.3 64-bit ('untitled': conda)",
   "metadata": {
    "interpreter": {
     "hash": "2417fe303c1de1c9bca9a485df8f7c9990f8a9085417579587d758697ce3f41a"
    }
   }
  }
 },
 "nbformat": 4,
 "nbformat_minor": 2,
 "cells": [
  {
   "cell_type": "code",
   "execution_count": null,
   "metadata": {},
   "outputs": [],
   "source": [
    "import pandas as pd\n",
    "import seaborn as sns\n",
    "import numpy as np\n",
    "from bs4 import BeautifulSoup\n",
    "import requests\n",
    "import re\n"
   ]
  },
  {
   "cell_type": "code",
   "execution_count": 1,
   "metadata": {},
   "outputs": [],
   "source": [
    "us_state_abbrev = {\n",
    "    'Alabama': 'AL',\n",
    "    'Alaska': 'AK',\n",
    "    'American Samoa': 'AS',\n",
    "    'Arizona': 'AZ',\n",
    "    'Arkansas': 'AR',\n",
    "    'California': 'CA',\n",
    "    'Colorado': 'CO',\n",
    "    'Connecticut': 'CT',\n",
    "    'Delaware': 'DE',\n",
    "    'District of Columbia': 'DC',\n",
    "    'Florida': 'FL',\n",
    "    'Georgia': 'GA',\n",
    "    'Guam': 'GU',\n",
    "    'Hawaii': 'HI',\n",
    "    'Idaho': 'ID',\n",
    "    'Illinois': 'IL',\n",
    "    'Indiana': 'IN',\n",
    "    'Iowa': 'IA',\n",
    "    'Kansas': 'KS',\n",
    "    'Kentucky': 'KY',\n",
    "    'Louisiana': 'LA',\n",
    "    'Maine': 'ME',\n",
    "    'Maryland': 'MD',\n",
    "    'Massachusetts': 'MA',\n",
    "    'Michigan': 'MI',\n",
    "    'Minnesota': 'MN',\n",
    "    'Mississippi': 'MS',\n",
    "    'Missouri': 'MO',\n",
    "    'Montana': 'MT',\n",
    "    'Nebraska': 'NE',\n",
    "    'Nevada': 'NV',\n",
    "    'New Hampshire': 'NH',\n",
    "    'New Jersey': 'NJ',\n",
    "    'New Mexico': 'NM',\n",
    "    'New York': 'NY',\n",
    "    'North Carolina': 'NC',\n",
    "    'North Dakota': 'ND',\n",
    "    'Northern Mariana Islands':'MP',\n",
    "    'Ohio': 'OH',\n",
    "    'Oklahoma': 'OK',\n",
    "    'Oregon': 'OR',\n",
    "    'Pennsylvania': 'PA',\n",
    "    'Puerto Rico': 'PR',\n",
    "    'Rhode Island': 'RI',\n",
    "    'South Carolina': 'SC',\n",
    "    'South Dakota': 'SD',\n",
    "    'Tennessee': 'TN',\n",
    "    'Texas': 'TX',\n",
    "    'Utah': 'UT',\n",
    "    'Vermont': 'VT',\n",
    "    'Virgin Islands': 'VI',\n",
    "    'Virginia': 'VA',\n",
    "    'Washington': 'WA',\n",
    "    'West Virginia': 'WV',\n",
    "    'Wisconsin': 'WI',\n",
    "    'Wyoming': 'WY'\n",
    "}"
   ]
  },
  {
   "cell_type": "code",
   "execution_count": null,
   "metadata": {},
   "outputs": [],
   "source": [
    "# state compactness averages scrape\n",
    "site = 'https://www.governing.com/gov-data/politics/gerrymandered-congressional-districts-compactness-by-state.html'\n",
    "\n",
    "response = requests.get(site)\n",
    "\n",
    "page = response.text\n",
    "soup = BeautifulSoup(page, 'html5')\n",
    "tab = soup.find_all('tr')"
   ]
  },
  {
   "cell_type": "code",
   "execution_count": null,
   "metadata": {},
   "outputs": [],
   "source": [
    "#finding beginning and end of table\n",
    "tab[2]"
   ]
  },
  {
   "cell_type": "code",
   "execution_count": null,
   "metadata": {},
   "outputs": [],
   "source": [
    "tab[44]"
   ]
  },
  {
   "cell_type": "code",
   "execution_count": null,
   "metadata": {},
   "outputs": [],
   "source": [
    "# create dictionary to set up dataframe\n",
    "comp = {}\n",
    "\n",
    "for row in tab[2:45]:\n",
    "    items = row.find_all('td')\n",
    "    state = items[0].text\n",
    "    comp[state] = [i.text for i in items[1:]]"
   ]
  },
  {
   "cell_type": "code",
   "execution_count": null,
   "metadata": {},
   "outputs": [],
   "source": [
    "comp_scores = pd.DataFrame(comp).T\n",
    "comp_scores.columns = ['districts', 'polsby-popper', 'schwartzberg', 'convex hull', 'reock']\n",
    "\n",
    "comp_scores.head()\n",
    "comp_scores.columns"
   ]
  },
  {
   "cell_type": "code",
   "execution_count": null,
   "metadata": {},
   "outputs": [],
   "source": [
    "comp_scores['state'] = comp_scores.index"
   ]
  },
  {
   "cell_type": "code",
   "execution_count": null,
   "metadata": {},
   "outputs": [],
   "source": [
    "compdf = comp_scores.drop(['districts'], axis = 1)"
   ]
  },
  {
   "cell_type": "code",
   "execution_count": null,
   "metadata": {},
   "outputs": [],
   "source": [
    "compdf.to_pickle('comp_table')"
   ]
  },
  {
   "cell_type": "code",
   "execution_count": null,
   "metadata": {},
   "outputs": [],
   "source": [
    "# wiki table for district areas\n",
    "site = 'https://en.wikipedia.org/wiki/List_of_United_States_congressional_districts'\n",
    "response = requests.get(site)\n",
    "\n",
    "page = response.text\n",
    "soup = BeautifulSoup(page, 'html5')"
   ]
  },
  {
   "cell_type": "code",
   "execution_count": null,
   "metadata": {},
   "outputs": [],
   "source": [
    "tab = soup.find_all('tbody')\n",
    "areas_raw = tab[1]\n",
    "areas = areas_raw.find_all('tr')\n",
    "areas[0]"
   ]
  },
  {
   "cell_type": "code",
   "execution_count": null,
   "metadata": {},
   "outputs": [],
   "source": [
    "#dictionary for rows\n",
    "rows = {}\n",
    "\n",
    "for row in areas[1:]:\n",
    "\n",
    "    items = row.find_all('td')\n",
    "    state = items[1].text\n",
    "    rank = items[0]\n",
    "    rows[state] = [rank] + [i.text for i in items]"
   ]
  },
  {
   "cell_type": "code",
   "execution_count": null,
   "metadata": {},
   "outputs": [],
   "source": [
    "#init dataframe\n",
    "district_df = pd.DataFrame(rows).T"
   ]
  },
  {
   "cell_type": "code",
   "execution_count": null,
   "metadata": {},
   "outputs": [],
   "source": [
    "district_df.columns = ['rank1', 'rank', 'district','areami', 'areakm']\n",
    "district_df = district_df.rename(columns={'district' :'desc'})\n"
   ]
  },
  {
   "cell_type": "code",
   "execution_count": null,
   "metadata": {},
   "outputs": [],
   "source": [
    "# remove newlines \\n from columns\n",
    "district_df['rank'] = [item.strip() for item in district_df['rank'] if str(item)]\n",
    "district_df['desc'] = [item.strip() for item in district_df['desc'] if str(item)]\n",
    "district_df['areami'] = [item.strip() for item in district_df['areami'] if str(item)]\n",
    "district_df['areakm'] = [item.strip() for item in district_df['areakm'] if str(item)]"
   ]
  },
  {
   "cell_type": "code",
   "execution_count": null,
   "metadata": {},
   "outputs": [],
   "source": [
    "district_df = district_df.drop(['rank1'], axis=1)"
   ]
  },
  {
   "cell_type": "code",
   "execution_count": null,
   "metadata": {},
   "outputs": [],
   "source": [
    "tb = district_df"
   ]
  },
  {
   "cell_type": "code",
   "execution_count": null,
   "metadata": {},
   "outputs": [],
   "source": [
    "# prepare dis columns for xx-oo format\n",
    "tb['state'] = tb['desc'].apply(lambda x: ' '.join((x.split()[:-1])))\n",
    "tb['disno'] = tb['desc'].apply(lambda x: x.split()[-1])\n",
    "tb['disno'] = tb['disno'].apply(lambda x: x[:-2])\n",
    "tb['disno'] = tb['disno'].apply(lambda x: x.replace('at-lar', 'AL'))"
   ]
  },
  {
   "cell_type": "code",
   "execution_count": null,
   "metadata": {},
   "outputs": [],
   "source": [
    "#remove nonstates\n",
    "tb['state'].unique()\n",
    "filterlist = ['District of Columbia', 'American Samoa', 'US Virgin Islands', 'N. Mariana Islands', 'Guam']\n",
    "\n",
    "tbdrop = tb[~tb['state'].isin(filterlist)]"
   ]
  },
  {
   "cell_type": "code",
   "execution_count": null,
   "metadata": {},
   "outputs": [],
   "source": [
    "tbdrop['st'] = tbdrop['state'].apply(lambda x: us_state_abbrev[x])\n",
    "# district xx-00\n",
    "tbdrop['district'] = tbdrop['st'] + '-' + tbdrop['disno']"
   ]
  },
  {
   "cell_type": "code",
   "execution_count": null,
   "metadata": {},
   "outputs": [],
   "source": [
    "\n",
    "tbend = tbdrop.iloc[:, [2, 4, 7]]"
   ]
  },
  {
   "cell_type": "code",
   "execution_count": null,
   "metadata": {},
   "outputs": [],
   "source": [
    "# change 0 to AL\n",
    "tbend = tbend.replace({'district': {'WY-0': 'WY-AL', 'AK-0': 'AK-AL', 'MT-0': 'MT-AL', 'SD-0':'SD-AL', 'ND-0':'ND-AL', 'DE-0':'DE-AL', 'VT-0':'VT-AL'}})"
   ]
  },
  {
   "cell_type": "code",
   "execution_count": null,
   "metadata": {},
   "outputs": [],
   "source": [
    "tbend.to_pickle('area_table')"
   ]
  },
  {
   "cell_type": "code",
   "execution_count": null,
   "metadata": {},
   "outputs": [],
   "source": [
    "# CSV from cookpolitical.com for Partisan Voting Index, margins\n",
    "df = pd.read_csv('pvitracker.csv')"
   ]
  },
  {
   "cell_type": "code",
   "execution_count": null,
   "metadata": {},
   "outputs": [],
   "source": [
    "dfdrop = df.drop(axis=0, index=[0, 1])\n",
    "#drop index rows\n",
    "\n",
    "# change state abbreviations to XX-## format\n",
    "dfdrop['abbv'] = dfdrop['State'].apply(lambda x: us_state_abbrev[x])\n",
    "dfdrop['district'] = dfdrop['abbv'] + '-' + dfdrop['CD#']\n",
    "dfdropp = dfdrop.copy()"
   ]
  },
  {
   "cell_type": "code",
   "execution_count": null,
   "metadata": {},
   "outputs": [],
   "source": [
    "# convert republican margins to negative number, opposite of positive dem margins\n",
    "dfdropp['2018 Cook PVI Score'] = dfdropp['2018 Cook PVI Score'].apply(lambda x: ('-' + x[2:]) if x[0] == 'R' else 0 if x == 'EVEN' else x[2:])\n",
    "dfdropp.rename(columns={'2018 Cook PVI Score': 'pvi'}, inplace=True)\n",
    "\n",
    "#columns to keep\n",
    "dfend = dfdropp[['pvi', 'Dem Margin', '2016 Clinton Margin', 'district']]"
   ]
  },
  {
   "cell_type": "code",
   "execution_count": null,
   "metadata": {},
   "outputs": [],
   "source": [
    "# formatting column to convert to numeric form\n",
    "dfend['Dem Margin'] = dfend['Dem Margin'].apply(lambda x: x[:-1])\n",
    "dfend['2016 Clinton Margin'] = dfend['2016 Clinton Margin'].apply(lambda x: x[:-1])\n",
    "dfend[['pvi','Dem Margin','2016 Clinton Margin']] = dfend[['pvi','Dem Margin','2016 Clinton Margin']].apply(pd.to_numeric)"
   ]
  },
  {
   "cell_type": "code",
   "execution_count": null,
   "metadata": {},
   "outputs": [],
   "source": [
    "dfend.to_pickle('margins2018')"
   ]
  },
  {
   "cell_type": "code",
   "execution_count": null,
   "metadata": {},
   "outputs": [],
   "source": [
    "# proximity.com csv for gini index, pop\n",
    "df = pd.read_csv('https://api.census.gov/data/2018/acs/acs1?get=NAME,B01001_001E,B02001_002E,B02001_003E,B02001_004E,B02001_005E,B02001_006E,B02001_007E,B02001_008E,B03003_003E,B29001_001E,B19013_001E,B19301_001E,B25077_001E,B25064_001E,B19083_001E,B25001_001E,B25002_002E,B25003_002E,B25003_003E,B25002_003E&for=congressional%20district:*')"
   ]
  },
  {
   "cell_type": "code",
   "execution_count": null,
   "metadata": {},
   "outputs": [],
   "source": [
    "#renaming columns in roundabout fashion\n",
    "dfkeep[['state', 'population', 'gini', 'disno']] = dfkeep[['[[\"NAME\"', 'B01001_001E', 'B19083_001E', 'congressional district]']]\n",
    "dfkeep.drop(['[[\"NAME\"', 'B01001_001E', 'B19083_001E', 'congressional district]'], axis=1, inplace=True)"
   ]
  },
  {
   "cell_type": "code",
   "execution_count": null,
   "metadata": {},
   "outputs": [],
   "source": [
    "#cleaning column data\n",
    "dfkeep['disno'] = dfkeep['disno'].apply(lambda x: x.replace(']', ''))\n",
    "dfkeep['state'] = dfkeep['state'].apply(lambda x: x.replace('\"','').strip())\n",
    "dfkeep['disno'] = dfkeep['disno'].apply(pd.to_numeric)\n",
    "\n",
    "dfkeep['district'] = dfkeep['state'].map(us_state_abbrev) + '-' + dfkeep['disno'].map(str)\n",
    "dfkeep.drop(['state', 'disno'],axis=1, inplace=True)\n",
    "\n",
    "# converting at district '0' to At large districts 'AL'\n",
    "dfkeep = dfkeep.replace({'district': {'WY-0': 'WY-AL', 'AK-0': 'AK-AL', 'MT-0': 'MT-AL', 'SD-0':'SD-AL', 'ND-0':'ND-AL', 'DE-0':'DE-AL', 'VT-0':'VT-AL'}})"
   ]
  },
  {
   "cell_type": "code",
   "execution_count": null,
   "metadata": {},
   "outputs": [],
   "source": [
    "dfkeep.sort_values(by=['district'])\n",
    "\n",
    "dfkeep.to_pickle('gini_table')"
   ]
  },
  {
   "cell_type": "code",
   "execution_count": null,
   "metadata": {},
   "outputs": [],
   "source": [
    "# rural district stats \n",
    "df = pd.read_csv('urcd2010.csv', names=[1, 2, 3, 4, 5, 6, 7, 8, 9, 10, 11, 12, 13, 14])"
   ]
  },
  {
   "cell_type": "code",
   "execution_count": null,
   "metadata": {},
   "outputs": [],
   "source": [
    "# keeping urban and rural percent columns\n",
    "dfkeep = df.iloc[:,[0, 3, 8,12]]\n",
    "dfkeep.rename(columns={1: 'state', 4: 'disno', 9: 'per_urban', 13: 'per_rural'}, inplace=True)"
   ]
  },
  {
   "cell_type": "code",
   "execution_count": null,
   "metadata": {},
   "outputs": [],
   "source": [
    "# formatting district codes\n",
    "dfkeep['district'] = dfkeep['state'] + '-' + dfkeep['disno'].map(str)\n",
    "dfkeep.drop(['disno'],axis=1,inplace=True)\n",
    "\n",
    "dfkeep = dfkeep.replace({'district': {'WY-0': 'WY-AL', 'AK-0': 'AK-AL', 'MT-0': 'MT-AL', 'SD-0':'SD-AL', 'ND-0':'ND-AL', 'DE-0':'DE-AL', 'VT-0':'VT-AL'}})"
   ]
  },
  {
   "cell_type": "code",
   "execution_count": null,
   "metadata": {},
   "outputs": [],
   "source": [
    "dfkeep.to_pickle('rural_table')"
   ]
  },
  {
   "cell_type": "code",
   "execution_count": null,
   "metadata": {},
   "outputs": [],
   "source": [
    "# Daily Kos candidate and demographic info\n",
    "df=pd.read_csv('116cong.csv')\n"
   ]
  },
  {
   "cell_type": "code",
   "execution_count": null,
   "metadata": {},
   "outputs": [],
   "source": [
    "dfkeep = df.iloc[:, [1,2,7,8,9, 10, 11, 12, 13, 14, 15, 16, 17, 20, 21, 22, 23, 24, 25, 28, 29, 30, 31, 32, 33, 42, 46, 50]]\n",
    "dfkeep.columns"
   ]
  },
  {
   "cell_type": "code",
   "execution_count": null,
   "metadata": {},
   "outputs": [],
   "source": [
    "dfkeep.rename(columns = {'2016 President': 'clinton2016', 'Unnamed: 15': 'trump2016', '2012 President': 'obama2012', 'Unnamed: 17': 'romney2012', '2018 US House': '2018dem', 'Unnamed: 21': '2018rep', '2016 US House': '2016dem', 'Unnamed: 23': '2016rep', '2014 US House': '2014dem', 'Unnamed: 25': '2014rep', '2014-2018 ACS Citizen Adult Population': 'whiteper', 'Unnamed: 29': 'blackper', 'Unnamed: 30': 'latinoper', 'Unnamed: 31': 'asianper', 'Unnamed: 32': 'nativeper', 'Unnamed: 33': 'other', 'Unnamed: 42': 'bach_higher', 'Unnamed: 46': 'median_income', 'Non-College White Share': 'noncol_white'}, inplace=True)"
   ]
  },
  {
   "cell_type": "code",
   "execution_count": null,
   "metadata": {},
   "outputs": [],
   "source": [
    "dfdrop = dfkeep.drop(axis=0, index=[0, 1])\n",
    "dfa = dfdrop.copy()\n",
    "dfad = dfa"
   ]
  },
  {
   "cell_type": "code",
   "execution_count": null,
   "metadata": {},
   "outputs": [],
   "source": [
    "\n",
    "# convery columns to numeric, missing values = null\n",
    "dfad.iloc[:, [ 3, 9, 10, 11, 12, 13, 14, 15, 16, 17, 18, 19, 20, 21, 22, 23, 24, 25]] = dfad.iloc[:, [ 3, 9, 10, 11, 12, 13, 14, 15, 16, 17, 18, 19, 20, 21, 22, 23, 24, 25]].apply(pd.to_numeric, errors='coerce')"
   ]
  },
  {
   "cell_type": "code",
   "execution_count": null,
   "metadata": {},
   "outputs": [],
   "source": [
    "# Past Election margins\n",
    "dfad['2016presmarg'] = dfad['clinton2016'] - dfad['trump2016']\n",
    "dfad['2012presmarg'] = dfad['obama2012'] - dfad['romney2012']\n",
    "dfad['2016marg'] = dfad['2016dem'] - dfad['2016rep']\n",
    "dfad['2014marg'] = dfad['2014dem'] - dfad['2014rep']\n"
   ]
  },
  {
   "cell_type": "code",
   "execution_count": null,
   "metadata": {},
   "outputs": [],
   "source": [
    "# changing district code format\n",
    "dfad['Code'] = dfad['Code'].apply(lambda x: x if x[3] != '0' else x[:3] + x[4])\n",
    "\n",
    "#calculate ages\n",
    "dfad['age'] = 2018 - dfad['Birth Year']"
   ]
  },
  {
   "cell_type": "code",
   "execution_count": null,
   "metadata": {},
   "outputs": [],
   "source": [
    "a = dfad.sort_values(by=['First Elected'])"
   ]
  },
  {
   "cell_type": "code",
   "execution_count": null,
   "metadata": {},
   "outputs": [],
   "source": [
    "# time in office / incumbent \n",
    "dfad['First Elected'] = dfad['First Elected'].apply(lambda x: str(x)[:4])\n",
    "dfo = a.drop(axis=0, index=[366, 296, 120, 72, 129])\n",
    "dfo['First Elected'] = dfo['First Elected'].apply(pd.to_numeric)\n",
    "dfo['time_in_office'] = 2018 - dfo['First Elected']\n",
    "\n",
    "dfo.sort_values(by=['time_in_office'],ascending = False)"
   ]
  },
  {
   "cell_type": "code",
   "execution_count": null,
   "metadata": {},
   "outputs": [],
   "source": [
    "dfo.to_pickle('demo2018')"
   ]
  },
  {
   "cell_type": "code",
   "execution_count": null,
   "metadata": {},
   "outputs": [],
   "source": [
    "# checking dummy categories\n",
    "dfo['Pre-2018 Incumbent'].unique()"
   ]
  },
  {
   "cell_type": "code",
   "execution_count": null,
   "metadata": {},
   "outputs": [],
   "source": [
    "dfo['Religion'].unique()"
   ]
  },
  {
   "cell_type": "code",
   "execution_count": null,
   "metadata": {},
   "outputs": [],
   "source": [
    "# gerrymandering index for districts\n",
    "cdf = pd.read_csv('gerryindex.csv')"
   ]
  },
  {
   "cell_type": "code",
   "execution_count": null,
   "metadata": {},
   "outputs": [],
   "source": [
    "# fix district codes \n",
    "cdf['st'] = cdf['State'].apply(lambda x: us_state_abbrev[x])\n",
    "cdf['district'] = cdf['st'] + '-' + cdf['District'].map(str)"
   ]
  },
  {
   "cell_type": "code",
   "execution_count": null,
   "metadata": {},
   "outputs": [],
   "source": [
    "cdf = cdf.drop(['Unnamed: 0', 'State', 'District', 'st'],axis=1)\n",
    "\n",
    "# replace 0 with AL for at large districts\n",
    "cdf = cdf.replace({'district': {'WY-0': 'WY-AL', 'AK-0': 'AK-AL', 'MT-0': 'MT-AL', 'SD-0':'SD-AL', 'ND-0':'ND-AL', 'DE-0':'DE-AL', 'VT-0':'VT-AL'}})"
   ]
  },
  {
   "cell_type": "code",
   "execution_count": null,
   "metadata": {},
   "outputs": [],
   "source": [
    "cdf.to_pickle('gerryindex')"
   ]
  }
 ]
}